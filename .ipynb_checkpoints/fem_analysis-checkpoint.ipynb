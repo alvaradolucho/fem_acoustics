{
 "cells": [
  {
   "cell_type": "markdown",
   "id": "6d8c1295-81d0-4d85-b8c5-44325ba4cdf8",
   "metadata": {},
   "source": [
    "# Prueba con análisis FEM\n",
    "\n",
    "Resolver la ecuación diferencial parcial del calor.\n",
    "\n",
    "$$\\dfrac{\\partial}{\\partial t}u(x, t) = \\dfrac{\\partial^2}{\\partial t^2}u(x,t) + f(x, t)$$\n",
    "\n",
    "Con Condiciones de Borde de Dirichlet Homogénea $u(0, t) = u(1, t) = 0$\n",
    "\n",
    "y una fuente de calor $f(x, t)$."
   ]
  },
  {
   "cell_type": "code",
   "execution_count": null,
   "id": "16fc1409-81a6-4edd-bb0f-f18bf15ad600",
   "metadata": {},
   "outputs": [],
   "source": []
  }
 ],
 "metadata": {
  "kernelspec": {
   "display_name": "Python 3 (ipykernel)",
   "language": "python",
   "name": "python3"
  },
  "language_info": {
   "codemirror_mode": {
    "name": "ipython",
    "version": 3
   },
   "file_extension": ".py",
   "mimetype": "text/x-python",
   "name": "python",
   "nbconvert_exporter": "python",
   "pygments_lexer": "ipython3",
   "version": "3.11.7"
  }
 },
 "nbformat": 4,
 "nbformat_minor": 5
}
